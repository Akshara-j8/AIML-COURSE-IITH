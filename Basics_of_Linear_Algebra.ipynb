{
  "nbformat": 4,
  "nbformat_minor": 0,
  "metadata": {
    "colab": {
      "provenance": [],
      "authorship_tag": "ABX9TyN8cBZs8w3h2QQh0OoAz9mp",
      "include_colab_link": true
    },
    "kernelspec": {
      "name": "python3",
      "display_name": "Python 3"
    },
    "language_info": {
      "name": "python"
    }
  },
  "cells": [
    {
      "cell_type": "markdown",
      "metadata": {
        "id": "view-in-github",
        "colab_type": "text"
      },
      "source": [
        "<a href=\"https://colab.research.google.com/github/Akshara-j8/AIML-COURSE-IITH/blob/main/Basics_of_Linear_Algebra.ipynb\" target=\"_parent\"><img src=\"https://colab.research.google.com/assets/colab-badge.svg\" alt=\"Open In Colab\"/></a>"
      ]
    },
    {
      "cell_type": "code",
      "execution_count": 3,
      "metadata": {
        "colab": {
          "base_uri": "https://localhost:8080/"
        },
        "id": "FJ4n1BE4KkEG",
        "outputId": "d4485936-6f7c-45aa-f1df-109c1db78ac0"
      },
      "outputs": [
        {
          "output_type": "stream",
          "name": "stdout",
          "text": [
            "a [[1, 2, 3, 4], [5, 6, 7, 8]]\n",
            "b [[1 5]\n",
            " [2 6]\n",
            " [3 7]\n",
            " [4 8]]\n"
          ]
        }
      ],
      "source": [
        "import numpy as np\n",
        "import matplotlib.pyplot as plt\n",
        "a=[[1,2,3,4],[5,6,7,8]]\n",
        "b=np.transpose(a)\n",
        "print('a',a)\n",
        "print('b',b)"
      ]
    },
    {
      "cell_type": "code",
      "source": [
        "print(\"matrix and its transpose\")\n",
        "a=np.array([[1,2,3],[8,9,10]])\n",
        "b=a.T\n",
        "print('a\\n',a)\n",
        "print('b\\n',b)"
      ],
      "metadata": {
        "colab": {
          "base_uri": "https://localhost:8080/"
        },
        "id": "CV8LXfGlNgjv",
        "outputId": "55c83a78-f239-4cbc-e70c-34f9aad0bc2d"
      },
      "execution_count": null,
      "outputs": [
        {
          "output_type": "stream",
          "name": "stdout",
          "text": [
            "matrix and its transpose\n",
            "a\n",
            " [[ 1  2  3]\n",
            " [ 8  9 10]]\n",
            "b\n",
            " [[ 1  8]\n",
            " [ 2  9]\n",
            " [ 3 10]]\n"
          ]
        }
      ]
    },
    {
      "cell_type": "code",
      "source": [
        "a=3\n",
        "b=9\n",
        "z=np.dot(a,b)\n",
        "print(z)"
      ],
      "metadata": {
        "colab": {
          "base_uri": "https://localhost:8080/"
        },
        "id": "X20FLVr2Ou7-",
        "outputId": "fcc1bac2-9fd8-4e4f-8840-4299540a0a1d"
      },
      "execution_count": null,
      "outputs": [
        {
          "output_type": "stream",
          "name": "stdout",
          "text": [
            "27\n"
          ]
        }
      ]
    },
    {
      "cell_type": "code",
      "source": [
        "z=a*b\n",
        "print(z)"
      ],
      "metadata": {
        "colab": {
          "base_uri": "https://localhost:8080/"
        },
        "id": "2XonmUumPjOW",
        "outputId": "2f2cf55f-c8ef-4a6a-8d4c-c768155f3974"
      },
      "execution_count": null,
      "outputs": [
        {
          "output_type": "stream",
          "name": "stdout",
          "text": [
            "27\n"
          ]
        }
      ]
    },
    {
      "cell_type": "code",
      "source": [
        "a=np.array([1,2,3]) #1d array\n",
        "b=[3,4,5]\n",
        "c=np.dot(a,b) #scalar\n",
        "print(c)"
      ],
      "metadata": {
        "colab": {
          "base_uri": "https://localhost:8080/"
        },
        "id": "goB3W284PoFW",
        "outputId": "ad501af0-1673-4a49-90f6-4a2f666cf112"
      },
      "execution_count": null,
      "outputs": [
        {
          "output_type": "stream",
          "name": "stdout",
          "text": [
            "26\n"
          ]
        }
      ]
    },
    {
      "cell_type": "code",
      "source": [
        "a=[[1,2,3],[2,3,4],[3,4,5]] #2d array\n",
        "b=[[3,4,5],[2,3,4],[1,2,3]]\n",
        "c=np.dot(a,b) #matrix multiplication\n",
        "print(c)"
      ],
      "metadata": {
        "colab": {
          "base_uri": "https://localhost:8080/"
        },
        "id": "pUm3b8_0P92x",
        "outputId": "d45e5dc2-f324-4564-ed11-b1c80c3ad4ea"
      },
      "execution_count": null,
      "outputs": [
        {
          "output_type": "stream",
          "name": "stdout",
          "text": [
            "[[10 16 22]\n",
            " [16 25 34]\n",
            " [22 34 46]]\n"
          ]
        }
      ]
    },
    {
      "cell_type": "code",
      "source": [
        "z=np.matmul(a,b)\n",
        "print(z)"
      ],
      "metadata": {
        "colab": {
          "base_uri": "https://localhost:8080/"
        },
        "id": "JrLZEI9TQev1",
        "outputId": "bcb28800-f3c3-450c-8999-33fa38a70409"
      },
      "execution_count": null,
      "outputs": [
        {
          "output_type": "stream",
          "name": "stdout",
          "text": [
            "[[10 16 22]\n",
            " [16 25 34]\n",
            " [22 34 46]]\n"
          ]
        }
      ]
    },
    {
      "cell_type": "code",
      "source": [
        " newa = np.array(a)\n",
        " newb = np.array(b)\n",
        " z = newa.dot(newb)\n",
        " print(z)"
      ],
      "metadata": {
        "colab": {
          "base_uri": "https://localhost:8080/"
        },
        "id": "F-l16wZWSKoM",
        "outputId": "bb3f36dd-aa80-41a6-8fbb-5da9b82203d5"
      },
      "execution_count": null,
      "outputs": [
        {
          "output_type": "stream",
          "name": "stdout",
          "text": [
            "[[10 16 22]\n",
            " [16 25 34]\n",
            " [22 34 46]]\n"
          ]
        }
      ]
    },
    {
      "cell_type": "code",
      "source": [
        "%%time\n",
        " a = np.random.randint(-5,4,(500,5))\n",
        " b = np.random.randint(-4,5,(5,1000))\n",
        " c = np.random.randint(-9,4,(1000,10))\n",
        " d = np.random.randint(-2,5,(10,2000))\n",
        " e = np.random.randint(-4,9,(2000,200))\n",
        " z = np.linalg.multi_dot([a,b,c,d,e])\n",
        " print(z)"
      ],
      "metadata": {
        "colab": {
          "base_uri": "https://localhost:8080/"
        },
        "id": "7ToFZizVSpl_",
        "outputId": "a5e92427-7d05-4228-aff0-fa30239f7cda"
      },
      "execution_count": null,
      "outputs": [
        {
          "output_type": "stream",
          "name": "stdout",
          "text": [
            "[[-39453850 -40931381 -37184295 ... -38815776 -39507897 -38925017]\n",
            " [-24198777 -23304390 -23185326 ... -22678616 -23837172 -24400729]\n",
            " [-70730219 -72298572 -68149745 ... -69876751 -72669553 -72092955]\n",
            " ...\n",
            " [-45244769 -46334228 -42709600 ... -44384103 -46053590 -46697620]\n",
            " [-15040864 -12299321 -13612499 ... -12366278 -14059025 -17092241]\n",
            " [ 25242426  26730241  25837847 ...  26316150  27604273  26033283]]\n",
            "CPU times: user 11.8 ms, sys: 945 µs, total: 12.7 ms\n",
            "Wall time: 12.4 ms\n"
          ]
        }
      ]
    },
    {
      "cell_type": "code",
      "source": [
        "%%time\n",
        "z = a.dot(b).dot(c).dot(d).dot(e)\n",
        "print(z)"
      ],
      "metadata": {
        "colab": {
          "base_uri": "https://localhost:8080/"
        },
        "id": "pxp_o6jYf4rW",
        "outputId": "253137eb-d918-4559-daf1-447c07fd92f4"
      },
      "execution_count": null,
      "outputs": [
        {
          "output_type": "stream",
          "name": "stdout",
          "text": [
            "[[-39453850 -40931381 -37184295 ... -38815776 -39507897 -38925017]\n",
            " [-24198777 -23304390 -23185326 ... -22678616 -23837172 -24400729]\n",
            " [-70730219 -72298572 -68149745 ... -69876751 -72669553 -72092955]\n",
            " ...\n",
            " [-45244769 -46334228 -42709600 ... -44384103 -46053590 -46697620]\n",
            " [-15040864 -12299321 -13612499 ... -12366278 -14059025 -17092241]\n",
            " [ 25242426  26730241  25837847 ...  26316150  27604273  26033283]]\n",
            "CPU times: user 295 ms, sys: 10.4 ms, total: 305 ms\n",
            "Wall time: 304 ms\n"
          ]
        }
      ]
    },
    {
      "cell_type": "markdown",
      "source": [
        "**Observe the CPU time that multi_dot consumes as against CPU time that successive dot methods consume to arrive at the same solution. Which one is more efficient, why ?**\n",
        "* the cpu time that multi_dot consumes is less comparred to the cpu time that dot method consumes\n",
        "multi_dot is more efficient because it takes less time and gives faster response"
      ],
      "metadata": {
        "id": "QFVPl3APilg4"
      }
    },
    {
      "cell_type": "code",
      "source": [
        "a=np.array([[1,2,3],[2,3,4]])\n",
        "b=np.array([5,6,7])\n",
        "c=np.inner(a,b)\n",
        "print(c)"
      ],
      "metadata": {
        "colab": {
          "base_uri": "https://localhost:8080/"
        },
        "id": "JhgFk3eFiQ8w",
        "outputId": "e1aa9ea4-4d41-48dc-eb9e-a9366c2ad99d"
      },
      "execution_count": null,
      "outputs": [
        {
          "output_type": "stream",
          "name": "stdout",
          "text": [
            "[38 56]\n"
          ]
        }
      ]
    },
    {
      "cell_type": "code",
      "source": [
        "d=np.outer(a,b)\n",
        "print(d)"
      ],
      "metadata": {
        "colab": {
          "base_uri": "https://localhost:8080/"
        },
        "id": "t5OZsNIfkxGt",
        "outputId": "ba7138be-c4ff-45d2-ab8b-948d59959725"
      },
      "execution_count": null,
      "outputs": [
        {
          "output_type": "stream",
          "name": "stdout",
          "text": [
            "[[ 5  6  7]\n",
            " [10 12 14]\n",
            " [15 18 21]\n",
            " [10 12 14]\n",
            " [15 18 21]\n",
            " [20 24 28]]\n"
          ]
        }
      ]
    },
    {
      "cell_type": "code",
      "source": [
        "a=np.random.random([3,6,5])\n",
        "b=np.random.random([3,5,6])\n",
        "c=a@b\n",
        "print(c)\n",
        "print(c.shape)"
      ],
      "metadata": {
        "colab": {
          "base_uri": "https://localhost:8080/"
        },
        "id": "cjL3LKfAlBOX",
        "outputId": "4c267518-a555-4ab5-d5e0-2e5c2d3d09f8"
      },
      "execution_count": null,
      "outputs": [
        {
          "output_type": "stream",
          "name": "stdout",
          "text": [
            "[[[1.84150414 1.31017967 1.31685505 1.3091504  0.53518889 1.78366234]\n",
            "  [1.61299261 0.60020571 0.99204001 1.10406631 0.48368412 1.32116783]\n",
            "  [1.39570015 0.96503445 1.02303364 0.98482222 0.47502973 1.46873519]\n",
            "  [1.57674987 0.74898102 1.13310016 1.10400832 0.57198187 1.60784879]\n",
            "  [0.94196015 0.68266906 0.37589521 0.59347529 0.30731038 0.56844808]\n",
            "  [1.38739814 0.75344385 0.74796911 0.94188827 0.28345091 0.92306917]]\n",
            "\n",
            " [[1.09682098 0.85559446 1.70934397 2.12870263 1.30956354 1.67485181]\n",
            "  [0.92663988 0.93202968 1.76940323 1.81135016 1.2953005  1.67331228]\n",
            "  [0.36538699 0.26177109 0.773125   0.71416055 0.28626658 0.67676089]\n",
            "  [0.7842307  0.29588825 0.9081351  1.22175053 0.62688393 0.7601349 ]\n",
            "  [1.10199849 0.35546001 1.25569931 1.49654593 0.60203131 0.96132974]\n",
            "  [0.73532141 0.58102851 1.59549174 1.47538984 0.75818198 1.40035546]]\n",
            "\n",
            " [[0.92805536 0.82966637 0.59383362 1.29161203 0.9617892  1.40933106]\n",
            "  [0.92787331 0.67192163 0.92184737 1.03520457 0.97288404 1.30748244]\n",
            "  [1.65488956 1.68464171 1.33719055 1.56701317 1.66408942 1.90247122]\n",
            "  [1.44191035 1.37633876 1.18065336 1.58426063 1.34957804 1.70678773]\n",
            "  [1.25366127 1.30392541 1.10115896 0.8129343  0.79066422 0.91057929]\n",
            "  [0.87319733 0.73765412 0.80728704 0.85272579 0.67840997 0.9476371 ]]]\n",
            "(3, 6, 6)\n"
          ]
        }
      ]
    },
    {
      "cell_type": "code",
      "source": [
        "a=np.arange(9).reshape(3,3)\n",
        "eig_val,eig_vec=np.linalg.eig(a)\n",
        "print(\"values are\",eig_val)\n",
        "print(\"vector\\n\",eig_vec)"
      ],
      "metadata": {
        "colab": {
          "base_uri": "https://localhost:8080/"
        },
        "id": "17a2tx1tmDwl",
        "outputId": "1224191a-695b-414c-ad2a-5c395943b384"
      },
      "execution_count": null,
      "outputs": [
        {
          "output_type": "stream",
          "name": "stdout",
          "text": [
            "values are [ 1.33484692e+01 -1.34846923e+00 -2.48477279e-16]\n",
            "vector\n",
            " [[ 0.16476382  0.79969966  0.40824829]\n",
            " [ 0.50577448  0.10420579 -0.81649658]\n",
            " [ 0.84678513 -0.59128809  0.40824829]]\n"
          ]
        }
      ]
    },
    {
      "cell_type": "code",
      "source": [
        "a=np.arange(9).reshape(3,3)\n",
        "eignvalues=np.linalg.eigvals(a)\n",
        "print(eignvalues)"
      ],
      "metadata": {
        "id": "vjulGsGlnwS-"
      },
      "execution_count": null,
      "outputs": []
    },
    {
      "cell_type": "code",
      "source": [
        "a=np.eye(4)\n",
        "b=np.trace(a)\n",
        "print(b)\n",
        "print(a)"
      ],
      "metadata": {
        "colab": {
          "base_uri": "https://localhost:8080/"
        },
        "id": "uFWwocnXnP0F",
        "outputId": "9db17b22-a971-404e-89c0-59b3a31e2658"
      },
      "execution_count": null,
      "outputs": [
        {
          "output_type": "stream",
          "name": "stdout",
          "text": [
            "4.0\n",
            "[[1. 0. 0. 0.]\n",
            " [0. 1. 0. 0.]\n",
            " [0. 0. 1. 0.]\n",
            " [0. 0. 0. 1.]]\n"
          ]
        }
      ]
    },
    {
      "cell_type": "code",
      "source": [
        "a = np.arange(12).reshape(4,3)\n",
        "z = np.linalg.norm(a)\n",
        "print(a)\n",
        "print('\\n Frobenius Norm of above matrix:')\n",
        "print(z)\n"
      ],
      "metadata": {
        "colab": {
          "base_uri": "https://localhost:8080/"
        },
        "id": "QXwGmCEwrVeb",
        "outputId": "4a7bb47e-1694-44f3-e4cf-2c82b1fc7564"
      },
      "execution_count": null,
      "outputs": [
        {
          "output_type": "stream",
          "name": "stdout",
          "text": [
            "[[ 0  1  2]\n",
            " [ 3  4  5]\n",
            " [ 6  7  8]\n",
            " [ 9 10 11]]\n",
            "\n",
            " Frobenius Norm of above matrix:\n",
            "22.494443758403985\n"
          ]
        }
      ]
    },
    {
      "cell_type": "code",
      "source": [
        "import numpy as np\n",
        "a=np.random.randint(1,10,[3,3])\n",
        "det=np.linalg.det(a)\n",
        "print(int(det))"
      ],
      "metadata": {
        "id": "IU22KzlRsGX9",
        "colab": {
          "base_uri": "https://localhost:8080/"
        },
        "outputId": "dd04fc80-1892-48fb-a3d5-7c4721bcef28"
      },
      "execution_count": 7,
      "outputs": [
        {
          "output_type": "stream",
          "name": "stdout",
          "text": [
            "-136\n"
          ]
        }
      ]
    },
    {
      "cell_type": "code",
      "source": [
        "inv=np.linalg.inv(a)\n",
        "print(inv)"
      ],
      "metadata": {
        "colab": {
          "base_uri": "https://localhost:8080/"
        },
        "id": "mZN5tswm8bLp",
        "outputId": "02754eed-9c8c-4815-89fa-61f1609bc0d5"
      },
      "execution_count": 8,
      "outputs": [
        {
          "output_type": "stream",
          "name": "stdout",
          "text": [
            "[[-0.11764706 -0.32352941  0.33823529]\n",
            " [-0.05882353  0.08823529  0.04411765]\n",
            " [ 0.35294118  0.47058824 -0.51470588]]\n"
          ]
        }
      ]
    },
    {
      "cell_type": "code",
      "source": [
        "a=np.random.random([4,4])\n",
        "b=np.linalg.matrix_power(a,2)\n",
        "c=np.linalg.matrix_power(a,3)\n",
        "d=np.linalg.matrix_power(a,-1)\n",
        "e=np.linalg.matrix_power(a,-2)\n",
        "print(\"matrix is\")\n",
        "print(a)\n",
        "print(\"matrix power 2 is\")\n",
        "print(b)\n",
        "print(\"matrix power 3 is\")\n",
        "print(c)\n",
        "print(\"matrix power -1 is\")\n",
        "print(d)\n",
        "print(\"matrix power -2 is\")\n",
        "print(e)\n"
      ],
      "metadata": {
        "colab": {
          "base_uri": "https://localhost:8080/"
        },
        "id": "Hl5PkgHB8-eK",
        "outputId": "8fafd50c-2e6b-4bc6-c9fa-9242882fc868"
      },
      "execution_count": 9,
      "outputs": [
        {
          "output_type": "stream",
          "name": "stdout",
          "text": [
            "matrix is\n",
            "[[0.42138876 0.46383006 0.11077322 0.46327303]\n",
            " [0.03334933 0.20024087 0.10273791 0.7494769 ]\n",
            " [0.68101539 0.10296547 0.46212801 0.55321004]\n",
            " [0.19384549 0.43219441 0.85644079 0.05183921]]\n",
            "matrix power 2 is\n",
            "[[0.35827857 0.49996034 0.54228885 0.62814453]\n",
            " [0.23597975 0.39006301 0.7136272  0.26121368]\n",
            " [0.71235963 0.62317082 0.77337067 0.67699813]\n",
            " [0.68939586 0.28704279 0.50605813 0.89020206]]\n",
            "matrix power 3 is\n",
            "[[0.65871795 0.59361045 0.87962802 0.87325168]\n",
            " [0.64907375 0.37393511 0.61971567 0.80999311]\n",
            " [0.97887304 0.82742336 1.08013871 1.26000061]\n",
            " [0.81727139 0.81408709 1.10212577 0.86061426]]\n",
            "matrix power -1 is\n",
            "[[ 0.86420219 -1.35369252  1.16437884 -0.577678  ]\n",
            " [ 2.09254283 -0.27206685 -1.43396371  0.53573893]\n",
            " [-1.22558474  0.35785078  0.44372004  1.04378689]\n",
            " [-0.4295251   1.41813416  0.27048201 -0.26051256]]\n",
            "matrix power -2 is\n",
            "[[-3.26473188 -1.20412021  3.30781142  0.14139937]\n",
            " [ 2.7663993  -2.51203456  2.33527589 -2.99089198]\n",
            " [-1.30248412  3.20072097 -1.46097693  1.0909375 ]\n",
            " [ 2.37670799 -0.07703193 -2.48412854  1.35806925]]\n"
          ]
        }
      ]
    },
    {
      "cell_type": "code",
      "source": [
        "a = np.random.randint(1,20,[4,4])\n",
        "b = np.array([4,9,12,7])\n",
        "x = np.linalg.solve(a,b)\n",
        "print('Coefficient Matrix')\n",
        "print(a)\n",
        "print('Dependent Variable vector')\n",
        "print(b)\n",
        "print('Solution')\n",
        "print(x)"
      ],
      "metadata": {
        "colab": {
          "base_uri": "https://localhost:8080/"
        },
        "id": "Nz6m_nnn9wyt",
        "outputId": "3475fa58-0fc7-4e51-aac4-0edad64ddcf4"
      },
      "execution_count": 10,
      "outputs": [
        {
          "output_type": "stream",
          "name": "stdout",
          "text": [
            "Coefficient Matrix\n",
            "[[ 8  7 10 13]\n",
            " [19 12  6 15]\n",
            " [ 8 19  3  4]\n",
            " [ 9  1  4 19]]\n",
            "Dependent Variable vector\n",
            "[ 4  9 12  7]\n",
            "Solution\n",
            "[-0.21411983  0.70661093 -0.66883418  0.57346338]\n"
          ]
        }
      ]
    },
    {
      "cell_type": "code",
      "source": [
        "B = a.dot(x)\n",
        "print(B)"
      ],
      "metadata": {
        "colab": {
          "base_uri": "https://localhost:8080/"
        },
        "id": "sfYWUJld-OxK",
        "outputId": "ce56ab1e-0fd9-4f5e-a962-e338dc29a64e"
      },
      "execution_count": 11,
      "outputs": [
        {
          "output_type": "stream",
          "name": "stdout",
          "text": [
            "[ 4.  9. 12.  7.]\n"
          ]
        }
      ]
    },
    {
      "cell_type": "code",
      "source": [
        "a=[1,2,3,4]\n",
        "b=[3,4,5,6]\n",
        "c=[]\n",
        "d=[]\n",
        "for i in range(0,len(a)):\n",
        "  for j in range(0,len(b)):\n",
        "    if i==j:\n",
        "     c.append(a[i]+b[j])\n",
        "     d.append(a[i]-b[j])\n",
        "print(c)\n",
        "print(d)"
      ],
      "metadata": {
        "colab": {
          "base_uri": "https://localhost:8080/"
        },
        "id": "8QlxRvB1-b3G",
        "outputId": "f418140a-3215-46a2-ab50-ddbe0df5e42c"
      },
      "execution_count": 18,
      "outputs": [
        {
          "output_type": "stream",
          "name": "stdout",
          "text": [
            "[4, 6, 8, 10]\n",
            "[-2, -2, -2, -2]\n"
          ]
        }
      ]
    },
    {
      "cell_type": "code",
      "source": [
        "a = [[1, 2, 3], [2, 3, 4]]\n",
        "rows = len(a)\n",
        "cols = len(a[0])\n",
        "\n",
        "\n",
        "b = []\n",
        "\n",
        "for i in range(cols):\n",
        "    row = []\n",
        "    for j in range(rows):\n",
        "        row.append(a[j][i])\n",
        "    b.append(row)\n",
        "\n",
        "print(\"Transpose of a is:\")\n",
        "print(b)\n"
      ],
      "metadata": {
        "colab": {
          "base_uri": "https://localhost:8080/"
        },
        "id": "jMxMDdAx-7Nt",
        "outputId": "331fe971-6c88-4e1d-e047-f137a1ba9edc"
      },
      "execution_count": 22,
      "outputs": [
        {
          "output_type": "stream",
          "name": "stdout",
          "text": [
            "Transpose of a is:\n",
            "[[1, 2], [2, 3], [3, 4]]\n"
          ]
        }
      ]
    },
    {
      "cell_type": "code",
      "source": [
        "A = [[1, 2, 3],\n",
        "     [4, 5, 6]]\n",
        "B = [[7, 8],\n",
        "     [9, 10],\n",
        "     [11, 12]]\n",
        "result = []\n",
        "for i in range(len(A)):\n",
        "    row = []\n",
        "    for j in range(len(B[0])):\n",
        "        total = 0\n",
        "        for k in range(len(B)):\n",
        "            total += A[i][k] * B[k][j]\n",
        "        row.append(total)\n",
        "    result.append(row)\n",
        "print(\"Multiplication result:\")\n",
        "for r in result:\n",
        "    print(r)\n"
      ],
      "metadata": {
        "colab": {
          "base_uri": "https://localhost:8080/"
        },
        "id": "phPcuFGiAOAy",
        "outputId": "71f4ce2f-1f71-422f-829b-fc561600f8fa"
      },
      "execution_count": 23,
      "outputs": [
        {
          "output_type": "stream",
          "name": "stdout",
          "text": [
            "Multiplication result:\n",
            "[58, 64]\n",
            "[139, 154]\n"
          ]
        }
      ]
    },
    {
      "cell_type": "code",
      "source": [
        "A = [[4, 7],\n",
        "     [2, 6]]\n",
        "det = A[0][0]*A[1][1] - A[0][1]*A[1][0]\n",
        "\n",
        "if det == 0:\n",
        "    print(\"Matrix is singular and cannot be inverted.\")\n",
        "else:\n",
        "    inv = [[A[1][1]/det, -A[0][1]/det],\n",
        "           [-A[1][0]/det, A[0][0]/det]]\n",
        "\n",
        "    print(\"Inverse of A:\")\n",
        "    for row in inv:\n",
        "        print(row)\n"
      ],
      "metadata": {
        "colab": {
          "base_uri": "https://localhost:8080/"
        },
        "id": "Xl4s10XwCe8_",
        "outputId": "7dc66a5c-bc4f-49d3-dbac-7c6ff5573258"
      },
      "execution_count": 24,
      "outputs": [
        {
          "output_type": "stream",
          "name": "stdout",
          "text": [
            "Inverse of A:\n",
            "[0.6, -0.7]\n",
            "[-0.2, 0.4]\n"
          ]
        }
      ]
    },
    {
      "cell_type": "code",
      "source": [],
      "metadata": {
        "id": "HKYN5jQ1CpO6"
      },
      "execution_count": null,
      "outputs": []
    }
  ]
}